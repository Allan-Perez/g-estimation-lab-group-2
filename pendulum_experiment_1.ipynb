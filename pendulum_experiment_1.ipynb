{
 "cells": [
  {
   "cell_type": "code",
   "execution_count": 1,
   "metadata": {},
   "outputs": [],
   "source": [
    "#Gravimetry lab finding g and errors\n",
    "import numpy as np"
   ]
  },
  {
   "cell_type": "code",
   "execution_count": 2,
   "metadata": {},
   "outputs": [
    {
     "name": "stdout",
     "output_type": "stream",
     "text": [
      "[ 9.99644094 10.00699698  9.95438339 10.04837631  9.99443216  9.9538843\n",
      "  9.93295656 10.03674405  9.97387703 10.00548795]\n",
      "average value of Gravity = 9.990357967758525\n",
      "(10,)\n"
     ]
    }
   ],
   "source": [
    "#Input Length value\n",
    "L = 1.003\n",
    "\n",
    "#Input values of the periods\n",
    "TArr = np.array([1.99025, 1.9892, 1.99445, 1.9851, 1.99045, 1.9945, 1.9966, 1.98625, 1.9925, 1.98935])\n",
    "\n",
    "#Calculate array of gravity values\n",
    "gArr = (4 * np.pi**2 * L) / TArr**2 \n",
    "print(gArr)\n",
    "\n",
    "#Finding avg g\n",
    "gSum = 0\n",
    "for x in range(10):\n",
    "    gSum = gSum + gArr[x]\n",
    "gAv = gSum / 10\n",
    "print(\"average value of Gravity =\", gAv)\n",
    "print(TArr.shape)"
   ]
  },
  {
   "cell_type": "code",
   "execution_count": 3,
   "metadata": {},
   "outputs": [
    {
     "name": "stdout",
     "output_type": "stream",
     "text": [
      "[0.00519835 0.00520407 0.0051756  0.00522646 0.00519727 0.00517533\n",
      " 0.00516401 0.00522016 0.00518615 0.00520325]\n",
      "the average error in g is\n",
      "0.005195064781612606\n",
      "g =  9.990357967758525 ± 0.005195064781612606\n"
     ]
    }
   ],
   "source": [
    "#Finding errors\n",
    "Lerr = 0.5E-3\n",
    "TErr = (1 / 240)/20   #as video is filmed at 240fps and there is error in start and end frame picking, and there is 20 oscillations\n",
    "gErrArr = gArr * np.sqrt( (Lerr/L)**2 + 2 * (TErr/TArr)**2 )\n",
    "print(gErrArr)\n",
    "\n",
    "#find average g error\n",
    "gErrSum = 0\n",
    "for x in range(10):\n",
    "    gErrSum = gErrSum + gErrArr[x]\n",
    "gErrAv = gErrSum / 10\n",
    "\n",
    "print(\"the average error in g is\")\n",
    "print(gErrAv)\n",
    "\n",
    "print('g = ', gAv, '±', gErrAv)"
   ]
  },
  {
   "cell_type": "code",
   "execution_count": null,
   "metadata": {},
   "outputs": [],
   "source": []
  }
 ],
 "metadata": {
  "kernelspec": {
   "display_name": "Python 3",
   "language": "python",
   "name": "python3"
  },
  "language_info": {
   "codemirror_mode": {
    "name": "ipython",
    "version": 3
   },
   "file_extension": ".py",
   "mimetype": "text/x-python",
   "name": "python",
   "nbconvert_exporter": "python",
   "pygments_lexer": "ipython3",
   "version": "3.9.0"
  }
 },
 "nbformat": 4,
 "nbformat_minor": 4
}
