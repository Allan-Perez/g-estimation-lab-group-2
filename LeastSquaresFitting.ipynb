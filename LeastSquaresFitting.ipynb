{
 "cells": [
  {
   "cell_type": "code",
   "execution_count": 44,
   "metadata": {},
   "outputs": [],
   "source": [
    "import numpy as np\n",
    "from scipy.optimize import curve_fit\n",
    "import matplotlib.pyplot as plt"
   ]
  },
  {
   "cell_type": "code",
   "execution_count": 54,
   "metadata": {},
   "outputs": [
    {
     "data": {
      "text/plain": [
       "array([[5.00e-01, 5.00e-04, 0.00e+00, 0.00e+00, 3.16e-01, 9.00e-03],\n",
       "       [5.00e-01, 5.00e-04, 0.00e+00, 0.00e+00, 3.16e-01, 9.00e-03],\n",
       "       [5.00e-01, 5.00e-04, 0.00e+00, 0.00e+00, 3.34e-01, 9.00e-03],\n",
       "       [5.00e-01, 5.00e-04, 0.00e+00, 0.00e+00, 3.00e-01, 9.00e-03],\n",
       "       [5.00e-01, 5.00e-04, 0.00e+00, 0.00e+00, 3.00e-01, 9.00e-03],\n",
       "       [5.00e-01, 5.00e-04, 0.00e+00, 0.00e+00, 3.17e-01, 9.00e-03],\n",
       "       [5.00e-01, 5.00e-04, 0.00e+00, 0.00e+00, 3.17e-01, 9.00e-03],\n",
       "       [5.00e-01, 5.00e-04, 0.00e+00, 0.00e+00, 3.00e-01, 9.00e-03],\n",
       "       [5.00e-01, 5.00e-04, 0.00e+00, 0.00e+00, 3.00e-01, 9.00e-03],\n",
       "       [5.00e-01, 5.00e-04, 0.00e+00, 0.00e+00, 3.17e-01, 9.00e-03],\n",
       "       [7.00e-01, 5.00e-04, 0.00e+00, 0.00e+00, 3.83e-01, 9.00e-03],\n",
       "       [7.00e-01, 5.00e-04, 0.00e+00, 0.00e+00, 3.67e-01, 9.00e-03],\n",
       "       [7.00e-01, 5.00e-04, 0.00e+00, 0.00e+00, 4.00e-01, 9.00e-03],\n",
       "       [7.00e-01, 5.00e-04, 0.00e+00, 0.00e+00, 3.66e-01, 9.00e-03],\n",
       "       [7.00e-01, 5.00e-04, 0.00e+00, 0.00e+00, 3.67e-01, 9.00e-03],\n",
       "       [7.00e-01, 5.00e-04, 0.00e+00, 0.00e+00, 3.83e-01, 9.00e-03],\n",
       "       [7.00e-01, 5.00e-04, 0.00e+00, 0.00e+00, 3.83e-01, 9.00e-03],\n",
       "       [7.00e-01, 5.00e-04, 0.00e+00, 0.00e+00, 3.84e-01, 9.00e-03],\n",
       "       [7.00e-01, 5.00e-04, 0.00e+00, 0.00e+00, 3.84e-01, 9.00e-03],\n",
       "       [7.00e-01, 5.00e-04, 0.00e+00, 0.00e+00, 3.83e-01, 9.00e-03],\n",
       "       [9.00e-01, 5.00e-04, 0.00e+00, 0.00e+00, 4.34e-01, 8.00e-03],\n",
       "       [9.00e-01, 5.00e-04, 0.00e+00, 0.00e+00, 4.17e-01, 8.00e-03],\n",
       "       [9.00e-01, 5.00e-04, 0.00e+00, 0.00e+00, 4.34e-01, 8.00e-03],\n",
       "       [9.00e-01, 5.00e-04, 0.00e+00, 0.00e+00, 4.17e-01, 8.00e-03],\n",
       "       [9.00e-01, 5.00e-04, 0.00e+00, 0.00e+00, 4.17e-01, 8.00e-03],\n",
       "       [9.00e-01, 5.00e-04, 0.00e+00, 0.00e+00, 4.33e-01, 8.00e-03],\n",
       "       [9.00e-01, 5.00e-04, 0.00e+00, 0.00e+00, 4.34e-01, 8.00e-03],\n",
       "       [9.00e-01, 5.00e-04, 0.00e+00, 0.00e+00, 4.33e-01, 8.00e-03],\n",
       "       [9.00e-01, 5.00e-04, 0.00e+00, 0.00e+00, 4.16e-01, 8.00e-03],\n",
       "       [9.00e-01, 5.00e-04, 0.00e+00, 0.00e+00, 4.34e-01, 8.00e-03],\n",
       "       [1.10e+00, 5.00e-04, 0.00e+00, 0.00e+00, 4.83e-01, 9.00e-03],\n",
       "       [1.10e+00, 5.00e-04, 0.00e+00, 0.00e+00, 4.83e-01, 9.00e-03],\n",
       "       [1.10e+00, 5.00e-04, 0.00e+00, 0.00e+00, 4.67e-01, 9.00e-03],\n",
       "       [1.10e+00, 5.00e-04, 0.00e+00, 0.00e+00, 4.67e-01, 9.00e-03],\n",
       "       [1.10e+00, 5.00e-04, 0.00e+00, 0.00e+00, 4.83e-01, 9.00e-03],\n",
       "       [1.10e+00, 5.00e-04, 0.00e+00, 0.00e+00, 5.00e-01, 9.00e-03],\n",
       "       [1.10e+00, 5.00e-04, 0.00e+00, 0.00e+00, 4.67e-01, 9.00e-03],\n",
       "       [1.10e+00, 5.00e-04, 0.00e+00, 0.00e+00, 4.66e-01, 9.00e-03],\n",
       "       [1.10e+00, 5.00e-04, 0.00e+00, 0.00e+00, 4.67e-01, 9.00e-03],\n",
       "       [1.10e+00, 5.00e-04, 0.00e+00, 0.00e+00, 4.66e-01, 9.00e-03],\n",
       "       [1.30e+00, 5.00e-04, 0.00e+00, 0.00e+00, 5.17e-01, 8.00e-03],\n",
       "       [1.30e+00, 5.00e-04, 0.00e+00, 0.00e+00, 5.16e-01, 8.00e-03],\n",
       "       [1.30e+00, 5.00e-04, 0.00e+00, 0.00e+00, 5.16e-01, 8.00e-03],\n",
       "       [1.30e+00, 5.00e-04, 0.00e+00, 0.00e+00, 5.17e-01, 8.00e-03],\n",
       "       [1.30e+00, 5.00e-04, 0.00e+00, 0.00e+00, 5.33e-01, 8.00e-03],\n",
       "       [1.30e+00, 5.00e-04, 0.00e+00, 0.00e+00, 5.17e-01, 8.00e-03],\n",
       "       [1.30e+00, 5.00e-04, 0.00e+00, 0.00e+00, 5.17e-01, 8.00e-03],\n",
       "       [1.30e+00, 5.00e-04, 0.00e+00, 0.00e+00, 5.16e-01, 8.00e-03],\n",
       "       [1.30e+00, 5.00e-04, 0.00e+00, 0.00e+00, 5.16e-01, 8.00e-03],\n",
       "       [1.30e+00, 5.00e-04, 0.00e+00, 0.00e+00, 5.17e-01, 8.00e-03],\n",
       "       [1.50e+00, 5.00e-04, 0.00e+00, 0.00e+00, 5.50e-01, 8.00e-03],\n",
       "       [1.50e+00, 5.00e-04, 0.00e+00, 0.00e+00, 5.66e-01, 8.00e-03],\n",
       "       [1.50e+00, 5.00e-04, 0.00e+00, 0.00e+00, 5.67e-01, 8.00e-03],\n",
       "       [1.50e+00, 5.00e-04, 0.00e+00, 0.00e+00, 5.50e-01, 8.00e-03],\n",
       "       [1.50e+00, 5.00e-04, 0.00e+00, 0.00e+00, 5.67e-01, 8.00e-03],\n",
       "       [1.50e+00, 5.00e-04, 0.00e+00, 0.00e+00, 5.50e-01, 8.00e-03],\n",
       "       [1.50e+00, 5.00e-04, 0.00e+00, 0.00e+00, 5.50e-01, 8.00e-03],\n",
       "       [1.50e+00, 5.00e-04, 0.00e+00, 0.00e+00, 5.67e-01, 8.00e-03],\n",
       "       [1.50e+00, 5.00e-04, 0.00e+00, 0.00e+00, 5.50e-01, 8.00e-03],\n",
       "       [1.50e+00, 5.00e-04, 0.00e+00, 0.00e+00, 5.50e-01, 8.00e-03]])"
      ]
     },
     "execution_count": 54,
     "metadata": {},
     "output_type": "execute_result"
    }
   ],
   "source": [
    "exp_number = 1\n",
    "hwm_experiments = 3\n",
    "\n",
    "data = np.loadtxt(f'./data/exp{exp_number}_freefall.csv', delimiter=',', skiprows=1)\n",
    "data"
   ]
  },
  {
   "cell_type": "code",
   "execution_count": 46,
   "metadata": {},
   "outputs": [],
   "source": [
    "def error_prop_addition(*args):\n",
    "    errors = np.array(args)\n",
    "    return np.sqrt(np.sum(errors**2, axis=0))\n",
    "\n",
    "def frac_error_prop_mult(*args):\n",
    "    if type(args[0]) != tuple:\n",
    "        raise NotImplementedError(\"Each parameter should be a tuple pair, \\\n",
    "                      where first element is A_err and second element is A\")\n",
    "    args_arr = np.array(args)\n",
    "    errors = args_arr[:,0]\n",
    "    abs_values = args_arr[:,1]\n",
    "    frac_errs = errors/abs_values\n",
    "    frac_err_propagation = np.sqrt(np.sum(frac_errs**2))\n",
    "    return frac_err_propagation\n",
    "\n",
    "def frac_errror_prop_power_single(A_err, A, power):\n",
    "    return power*A_err/A\n",
    "\n",
    "def frac_errror_prop_power(*args):\n",
    "    # @TODO: Figure out how to vectorize this, so that user can simply put in tuples of arrays\n",
    "    # of A_err, A, and pow, and get back err_propagation. Will leave for the future.\n",
    "    if type(args[0]) != tuple:\n",
    "        raise NotImplementedError(\"Each parameter should be a tuple triplet, \\\n",
    "                      where first element is A_i_err, second element is A_i, \\\n",
    "                      and third elements is n_i, and Z=multOrDiv(A^n)\")\n",
    "    print(*args)\n",
    "    args_arr = np.array(args)\n",
    "    print(args_arr)\n",
    "    errors = args_arr[:,0]\n",
    "    abs_values = args_arr[:,1]\n",
    "    exponents = args_arr[:,1]\n",
    "    frac_errs = errors/abs_values\n",
    "    \n",
    "    frac_err_propagation = np.sqrt(np.sum( (frac_errs*exponents)**2))\n",
    "    return frac_err_propagation\n",
    "    "
   ]
  },
  {
   "cell_type": "code",
   "execution_count": 47,
   "metadata": {},
   "outputs": [
    {
     "name": "stdout",
     "output_type": "stream",
     "text": [
      "[0.10633185 0.10633185 0.10633185 0.10633185 0.10633185 0.10633185\n",
      " 0.10012131 0.10633185 0.10633185 0.09994442 0.10633185 0.10012131\n",
      " 0.10633185 0.10012131 0.10633185 0.10633185 0.09994442 0.10012131\n",
      " 0.10012131 0.10012131 0.10012131 0.09459622 0.10012131 0.09459622\n",
      " 0.0944383  0.09994442 0.0944383  0.0944383  0.0944383  0.0944383\n",
      " 0.0944383  0.09459622 0.08880462 0.09459622 0.10012131 0.08950719\n",
      " 0.08950719 0.0944383  0.08950719 0.0944383  0.0944383  0.09459622\n",
      " 0.08964904 0.09459622 0.08950719 0.08950719 0.08950719 0.08950719\n",
      " 0.08950719 0.08950719 0.08246143 0.08950719 0.08964904 0.08506548\n",
      " 0.08964904 0.08950719 0.08506548 0.08506548 0.08493775 0.08950719]\n"
     ]
    }
   ],
   "source": [
    "# tf: time to reach ground (t subscript f)\n",
    "tf = data[:,4]-data[:,2]\n",
    "tf_err = error_prop_addition(data[:,5],data[:,3])\n",
    "tf_sq = tf**2\n",
    "#tf_sq_err = tf_sq*frac_errror_prop_power( (tf_err,tf,2) )\n",
    "tf_sq_err = frac_errror_prop_power_single(tf_err, tf, 2)\n",
    "\n",
    "heights = data[:,0]\n",
    "heights_err= data[:,1]\n",
    "# Ignore error in heights by now because Least Squares can't\n",
    "# deal with uncertainties from multiple variables. It isn't the dominant error anyway.\n",
    "print(tf_sq_err)"
   ]
  },
  {
   "cell_type": "code",
   "execution_count": 48,
   "metadata": {},
   "outputs": [
    {
     "name": "stdout",
     "output_type": "stream",
     "text": [
      "The least squares fitting method predicted g = 9.784 ± 0.899 ms^-2.\n"
     ]
    }
   ],
   "source": [
    "def calculate_lsq_g_err(x, y, gradient, model):\n",
    "    # x should be a simple np array (vector) with N entries, where x_i is a float\n",
    "    # and it should be the independent variable (e.g. height)\n",
    "    # y should be a simple np array (vector) with N entries, where y_i is a float\n",
    "    # and it should be the dependent variable (e.g. time it took to fall, squared)\n",
    "    x = x.flatten() if (len(x.shape)>1) else x\n",
    "    y = y.flatten() if (len(y.shape)>1) else y\n",
    "    N = len(x)\n",
    "    \n",
    "    y_pred = model(x, gradient)\n",
    "    g = 2/gradient\n",
    "    \n",
    "    common_uncertainty = np.sqrt((1/(N-2)) * np.sum((y - y_pred)**2)) # magnitude of uncertainty in y-measurements\n",
    "    Delta = N*np.sum(x**2) - np.sum(x)**2\n",
    "    gradient_err = common_uncertainty* np.sqrt(N/Delta)\n",
    "    # since g=2*gradient**(-1), then g_err/g = err_grad/grad\n",
    "    g_err_frac = gradient_err/gradient\n",
    "    return g_err_frac\n",
    "\n",
    "def least_squares_fitting_predict_g(X,Y,Y_err,model=None):\n",
    "    fitting_line = lambda x,m: m*x\n",
    "    model = model if (model is not None) else fitting_line\n",
    "    params, params_covariance = curve_fit(model, X, Y, sigma=Y_err)\n",
    "    ## We only have 1 variables in the model, the gradient, so covariance matrix is 1x1\n",
    "    m = params[0]\n",
    "    m_var = params_covariance[0]\n",
    "    \n",
    "    g = 2/m\n",
    "    g_err = g*calculate_lsq_g_err(X,Y,m,model)\n",
    "    \n",
    "    return ((g, g_err), (params, params_covariance), model)\n",
    "\n",
    "gs, params_and_cov, model = least_squares_fitting_predict_g(heights, tf_sq, tf_sq_err)\n",
    "print(f\"The least squares fitting method predicted g = {gs[0]:.3f} ± {gs[1]:.3f} ms^-2.\")"
   ]
  },
  {
   "cell_type": "code",
   "execution_count": 49,
   "metadata": {},
   "outputs": [
    {
     "data": {
      "image/png": "[encoded data removed]",
      "text/plain": [
       "<Figure size 432x288 with 1 Axes>"
      ]
     },
     "metadata": {
      "needs_background": "light"
     },
     "output_type": "display_data"
    }
   ],
   "source": [
    "heights_per_exp = np.array(np.split(heights,hwm_experiments))\n",
    "heights_err_per_exp = np.array(np.split(heights_err, hwm_experiments))\n",
    "tf_sq_per_exp = np.array(np.split(tf_sq,hwm_experiments))\n",
    "tf_sq_err_per_exp = np.array(np.split(tf_sq_err,hwm_experiments))\n",
    "\n",
    "heights_avg_per_exp = np.average(heights_per_exp, axis=1)\n",
    "heights_std_err_per_exp = 1/np.sqrt(np.sum((1/heights_err_per_exp)**2, axis=1))## Hughes and Hase,\n",
    "tf_sq_avg_per_exp = np.average(tf_sq_per_exp, axis=1)\n",
    "#tf_sq_std_err_per_exp = np.sqrt(np.sum(tf_sq_err_per_exp**2, axis=1))\n",
    "tf_sq_std_err_per_exp = 1/np.sqrt(np.sum((1/tf_sq_err_per_exp)**2, axis=1)) ## Hughes and Hase, \n",
    "\n",
    "theoretical_prediction = model(heights, params_and_cov[0][0])\n",
    "\n",
    "plt.plot([],[], ' ', label=f\"g = {gs[0]:.3f} ± {gs[1]:.3f} ms^-2\")\n",
    "plt.scatter(heights, tf_sq, color='r', label='Measurements')\n",
    "plt.plot(heights, theoretical_prediction, color='b',label='Model')\n",
    "\n",
    "plt.xlabel(\"Heights (m)\")\n",
    "plt.ylabel(\"Time to reach ground, squared (s^2)\")\n",
    "plt.title(\"Theoretical model of predicted g using least squares method\")\n",
    "plt.legend()\n",
    "plt.errorbar(heights_avg_per_exp, tf_sq_avg_per_exp, tf_sq_std_err_per_exp, heights_std_err_per_exp , fmt='.')\n",
    "plt.savefig(f'./plots/model_exp{exp_number}.png',dpi=(125))"
   ]
  },
  {
   "cell_type": "code",
   "execution_count": null,
   "metadata": {},
   "outputs": [],
   "source": []
  },
  {
   "cell_type": "code",
   "execution_count": null,
   "metadata": {},
   "outputs": [],
   "source": []
  }
 ],
 "metadata": {
  "kernelspec": {
   "display_name": "Python 3",
   "language": "python",
   "name": "python3"
  },
  "language_info": {
   "codemirror_mode": {
    "name": "ipython",
    "version": 3
   },
   "file_extension": ".py",
   "mimetype": "text/x-python",
   "name": "python",
   "nbconvert_exporter": "python",
   "pygments_lexer": "ipython3",
   "version": "3.9.0"
  }
 },
 "nbformat": 4,
 "nbformat_minor": 4
}
