{
 "cells": [
  {
   "cell_type": "code",
   "execution_count": 44,
   "metadata": {},
   "outputs": [],
   "source": [
    "import numpy as np\n",
    "from scipy.optimize import curve_fit\n",
    "import matplotlib.pyplot as plt"
   ]
  },
  {
   "cell_type": "code",
   "execution_count": 227,
   "metadata": {},
   "outputs": [
    {
     "name": "stdout",
     "output_type": "stream",
     "text": [
      "[(6, array([[5.00e-01, 5.00e-04, 0.00e+00, 0.00e+00, 3.16e-01, 9.00e-03],\n",
      "       [5.00e-01, 5.00e-04, 0.00e+00, 0.00e+00, 3.16e-01, 9.00e-03],\n",
      "       [5.00e-01, 5.00e-04, 0.00e+00, 0.00e+00, 3.34e-01, 9.00e-03],\n",
      "       [5.00e-01, 5.00e-04, 0.00e+00, 0.00e+00, 3.00e-01, 9.00e-03],\n",
      "       [5.00e-01, 5.00e-04, 0.00e+00, 0.00e+00, 3.00e-01, 9.00e-03],\n",
      "       [5.00e-01, 5.00e-04, 0.00e+00, 0.00e+00, 3.17e-01, 9.00e-03],\n",
      "       [5.00e-01, 5.00e-04, 0.00e+00, 0.00e+00, 3.17e-01, 9.00e-03],\n",
      "       [5.00e-01, 5.00e-04, 0.00e+00, 0.00e+00, 3.00e-01, 9.00e-03],\n",
      "       [5.00e-01, 5.00e-04, 0.00e+00, 0.00e+00, 3.00e-01, 9.00e-03],\n",
      "       [5.00e-01, 5.00e-04, 0.00e+00, 0.00e+00, 3.17e-01, 9.00e-03],\n",
      "       [7.00e-01, 5.00e-04, 0.00e+00, 0.00e+00, 3.83e-01, 9.00e-03],\n",
      "       [7.00e-01, 5.00e-04, 0.00e+00, 0.00e+00, 3.67e-01, 9.00e-03],\n",
      "       [7.00e-01, 5.00e-04, 0.00e+00, 0.00e+00, 4.00e-01, 9.00e-03],\n",
      "       [7.00e-01, 5.00e-04, 0.00e+00, 0.00e+00, 3.66e-01, 9.00e-03],\n",
      "       [7.00e-01, 5.00e-04, 0.00e+00, 0.00e+00, 3.67e-01, 9.00e-03],\n",
      "       [7.00e-01, 5.00e-04, 0.00e+00, 0.00e+00, 3.83e-01, 9.00e-03],\n",
      "       [7.00e-01, 5.00e-04, 0.00e+00, 0.00e+00, 3.83e-01, 9.00e-03],\n",
      "       [7.00e-01, 5.00e-04, 0.00e+00, 0.00e+00, 3.84e-01, 9.00e-03],\n",
      "       [7.00e-01, 5.00e-04, 0.00e+00, 0.00e+00, 3.84e-01, 9.00e-03],\n",
      "       [7.00e-01, 5.00e-04, 0.00e+00, 0.00e+00, 3.83e-01, 9.00e-03],\n",
      "       [9.00e-01, 5.00e-04, 0.00e+00, 0.00e+00, 4.34e-01, 8.00e-03],\n",
      "       [9.00e-01, 5.00e-04, 0.00e+00, 0.00e+00, 4.17e-01, 8.00e-03],\n",
      "       [9.00e-01, 5.00e-04, 0.00e+00, 0.00e+00, 4.34e-01, 8.00e-03],\n",
      "       [9.00e-01, 5.00e-04, 0.00e+00, 0.00e+00, 4.17e-01, 8.00e-03],\n",
      "       [9.00e-01, 5.00e-04, 0.00e+00, 0.00e+00, 4.17e-01, 8.00e-03],\n",
      "       [9.00e-01, 5.00e-04, 0.00e+00, 0.00e+00, 4.33e-01, 8.00e-03],\n",
      "       [9.00e-01, 5.00e-04, 0.00e+00, 0.00e+00, 4.34e-01, 8.00e-03],\n",
      "       [9.00e-01, 5.00e-04, 0.00e+00, 0.00e+00, 4.33e-01, 8.00e-03],\n",
      "       [9.00e-01, 5.00e-04, 0.00e+00, 0.00e+00, 4.16e-01, 8.00e-03],\n",
      "       [9.00e-01, 5.00e-04, 0.00e+00, 0.00e+00, 4.34e-01, 8.00e-03],\n",
      "       [1.10e+00, 5.00e-04, 0.00e+00, 0.00e+00, 4.83e-01, 9.00e-03],\n",
      "       [1.10e+00, 5.00e-04, 0.00e+00, 0.00e+00, 4.83e-01, 9.00e-03],\n",
      "       [1.10e+00, 5.00e-04, 0.00e+00, 0.00e+00, 4.67e-01, 9.00e-03],\n",
      "       [1.10e+00, 5.00e-04, 0.00e+00, 0.00e+00, 4.67e-01, 9.00e-03],\n",
      "       [1.10e+00, 5.00e-04, 0.00e+00, 0.00e+00, 4.83e-01, 9.00e-03],\n",
      "       [1.10e+00, 5.00e-04, 0.00e+00, 0.00e+00, 5.00e-01, 9.00e-03],\n",
      "       [1.10e+00, 5.00e-04, 0.00e+00, 0.00e+00, 4.67e-01, 9.00e-03],\n",
      "       [1.10e+00, 5.00e-04, 0.00e+00, 0.00e+00, 4.66e-01, 9.00e-03],\n",
      "       [1.10e+00, 5.00e-04, 0.00e+00, 0.00e+00, 4.67e-01, 9.00e-03],\n",
      "       [1.10e+00, 5.00e-04, 0.00e+00, 0.00e+00, 4.66e-01, 9.00e-03],\n",
      "       [1.30e+00, 5.00e-04, 0.00e+00, 0.00e+00, 5.17e-01, 8.00e-03],\n",
      "       [1.30e+00, 5.00e-04, 0.00e+00, 0.00e+00, 5.16e-01, 8.00e-03],\n",
      "       [1.30e+00, 5.00e-04, 0.00e+00, 0.00e+00, 5.16e-01, 8.00e-03],\n",
      "       [1.30e+00, 5.00e-04, 0.00e+00, 0.00e+00, 5.17e-01, 8.00e-03],\n",
      "       [1.30e+00, 5.00e-04, 0.00e+00, 0.00e+00, 5.33e-01, 8.00e-03],\n",
      "       [1.30e+00, 5.00e-04, 0.00e+00, 0.00e+00, 5.17e-01, 8.00e-03],\n",
      "       [1.30e+00, 5.00e-04, 0.00e+00, 0.00e+00, 5.17e-01, 8.00e-03],\n",
      "       [1.30e+00, 5.00e-04, 0.00e+00, 0.00e+00, 5.16e-01, 8.00e-03],\n",
      "       [1.30e+00, 5.00e-04, 0.00e+00, 0.00e+00, 5.16e-01, 8.00e-03],\n",
      "       [1.30e+00, 5.00e-04, 0.00e+00, 0.00e+00, 5.17e-01, 8.00e-03],\n",
      "       [1.50e+00, 5.00e-04, 0.00e+00, 0.00e+00, 5.50e-01, 8.00e-03],\n",
      "       [1.50e+00, 5.00e-04, 0.00e+00, 0.00e+00, 5.66e-01, 8.00e-03],\n",
      "       [1.50e+00, 5.00e-04, 0.00e+00, 0.00e+00, 5.67e-01, 8.00e-03],\n",
      "       [1.50e+00, 5.00e-04, 0.00e+00, 0.00e+00, 5.50e-01, 8.00e-03],\n",
      "       [1.50e+00, 5.00e-04, 0.00e+00, 0.00e+00, 5.67e-01, 8.00e-03],\n",
      "       [1.50e+00, 5.00e-04, 0.00e+00, 0.00e+00, 5.50e-01, 8.00e-03],\n",
      "       [1.50e+00, 5.00e-04, 0.00e+00, 0.00e+00, 5.50e-01, 8.00e-03],\n",
      "       [1.50e+00, 5.00e-04, 0.00e+00, 0.00e+00, 5.67e-01, 8.00e-03],\n",
      "       [1.50e+00, 5.00e-04, 0.00e+00, 0.00e+00, 5.50e-01, 8.00e-03],\n",
      "       [1.50e+00, 5.00e-04, 0.00e+00, 0.00e+00, 5.50e-01, 8.00e-03]])), (3, array([[1.5  , 0.02 , 0.482, 0.012, 1.026, 0.007],\n",
      "       [1.5  , 0.02 , 1.015, 0.012, 1.548, 0.007],\n",
      "       [1.5  , 0.02 , 0.289, 0.012, 0.826, 0.007],\n",
      "       [1.5  , 0.02 , 0.366, 0.012, 0.907, 0.007],\n",
      "       [1.5  , 0.02 , 0.326, 0.012, 0.866, 0.007],\n",
      "       [1.7  , 0.02 , 0.811, 0.012, 1.389, 0.007],\n",
      "       [1.7  , 0.02 , 0.3  , 0.012, 0.882, 0.007],\n",
      "       [1.7  , 0.02 , 0.778, 0.012, 1.349, 0.007],\n",
      "       [1.7  , 0.02 , 0.255, 0.012, 0.837, 0.007],\n",
      "       [1.7  , 0.02 , 0.4  , 0.012, 0.959, 0.007],\n",
      "       [1.   , 0.02 , 1.044, 0.012, 1.482, 0.007],\n",
      "       [1.   , 0.02 , 0.178, 0.012, 0.655, 0.007],\n",
      "       [1.   , 0.02 , 0.133, 0.012, 0.571, 0.007],\n",
      "       [1.   , 0.02 , 0.222, 0.012, 0.648, 0.007],\n",
      "       [1.   , 0.02 , 0.7  , 0.012, 1.137, 0.007]])), (6, array([[1.5000e+00, 1.0000e-01, 1.1738e+01, 2.0000e-02, 1.2270e+01,\n",
      "        2.0000e-02],\n",
      "       [1.5000e+00, 1.0000e-01, 1.5695e+01, 2.0000e-02, 1.6227e+01,\n",
      "        2.0000e-02],\n",
      "       [1.5000e+00, 1.0000e-01, 1.9186e+01, 2.0000e-02, 1.9718e+01,\n",
      "        2.0000e-02],\n",
      "       [1.5000e+00, 1.0000e-01, 2.2179e+01, 2.0000e-02, 2.2711e+01,\n",
      "        2.0000e-02],\n",
      "       [1.5000e+00, 1.0000e-01, 2.5604e+01, 2.0000e-02, 2.6136e+01,\n",
      "        2.0000e-02],\n",
      "       [1.5000e+00, 1.0000e-01, 2.8663e+01, 2.0000e-02, 2.9195e+01,\n",
      "        2.0000e-02],\n",
      "       [1.5000e+00, 1.0000e-01, 3.1589e+01, 2.0000e-02, 3.2154e+01,\n",
      "        2.0000e-02],\n",
      "       [1.5000e+00, 1.0000e-01, 3.4848e+01, 2.0000e-02, 3.5380e+01,\n",
      "        2.0000e-02],\n",
      "       [1.5000e+00, 1.0000e-01, 3.7807e+01, 2.0000e-02, 3.8339e+01,\n",
      "        2.0000e-02],\n",
      "       [1.5000e+00, 1.0000e-01, 4.1265e+01, 2.0000e-02, 4.1831e+01,\n",
      "        2.0000e-02],\n",
      "       [1.6000e+00, 1.0000e-01, 4.4391e+01, 2.0000e-02, 4.4923e+01,\n",
      "        2.0000e-02],\n",
      "       [1.6000e+00, 1.0000e-01, 4.7118e+01, 2.0000e-02, 4.7683e+01,\n",
      "        2.0000e-02],\n",
      "       [1.6000e+00, 1.0000e-01, 4.9878e+01, 2.0000e-02, 5.0410e+01,\n",
      "        2.0000e-02],\n",
      "       [1.6000e+00, 1.0000e-01, 5.2505e+01, 2.0000e-02, 5.3070e+01,\n",
      "        2.0000e-02],\n",
      "       [1.6000e+00, 1.0000e-01, 5.5464e+01, 2.0000e-02, 5.5996e+01,\n",
      "        2.0000e-02],\n",
      "       [1.6000e+00, 1.0000e-01, 5.8390e+01, 2.0000e-02, 5.8922e+01,\n",
      "        2.0000e-02],\n",
      "       [1.6000e+00, 1.0000e-01, 1.0830e+00, 2.0000e-02, 1.6490e+00,\n",
      "        2.0000e-02],\n",
      "       [1.6000e+00, 1.0000e-01, 3.9100e+00, 2.0000e-02, 4.4750e+00,\n",
      "        2.0000e-02],\n",
      "       [1.6000e+00, 1.0000e-01, 6.6030e+00, 2.0000e-02, 7.1680e+00,\n",
      "        2.0000e-02],\n",
      "       [1.6000e+00, 1.0000e-01, 9.6960e+00, 2.0000e-02, 1.0261e+01,\n",
      "        2.0000e-02],\n",
      "       [1.7000e+00, 1.0000e-01, 1.2921e+01, 2.0000e-02, 1.3486e+01,\n",
      "        2.0000e-02],\n",
      "       [1.7000e+00, 1.0000e-01, 1.5681e+01, 2.0000e-02, 1.6279e+01,\n",
      "        2.0000e-02],\n",
      "       [1.7000e+00, 1.0000e-01, 1.8308e+01, 2.0000e-02, 1.8873e+01,\n",
      "        2.0000e-02],\n",
      "       [1.7000e+00, 1.0000e-01, 2.1068e+01, 2.0000e-02, 2.1666e+01,\n",
      "        2.0000e-02],\n",
      "       [1.7000e+00, 1.0000e-01, 2.3927e+01, 2.0000e-02, 2.4526e+01,\n",
      "        2.0000e-02],\n",
      "       [1.7000e+00, 1.0000e-01, 2.6853e+01, 2.0000e-02, 2.7419e+01,\n",
      "        2.0000e-02],\n",
      "       [1.7000e+00, 1.0000e-01, 3.0112e+01, 2.0000e-02, 3.0711e+01,\n",
      "        2.0000e-02],\n",
      "       [1.7000e+00, 1.0000e-01, 3.2772e+01, 2.0000e-02, 3.3371e+01,\n",
      "        2.0000e-02],\n",
      "       [1.7000e+00, 1.0000e-01, 3.5366e+01, 2.0000e-02, 3.5965e+01,\n",
      "        2.0000e-02],\n",
      "       [1.7000e+00, 1.0000e-01, 3.7893e+01, 2.0000e-02, 3.8492e+01,\n",
      "        2.0000e-02],\n",
      "       [1.8000e+00, 1.0000e-01, 4.0553e+01, 2.0000e-02, 4.1152e+01,\n",
      "        2.0000e-02],\n",
      "       [1.8000e+00, 1.0000e-01, 4.4843e+01, 2.0000e-02, 4.5441e+01,\n",
      "        2.0000e-02],\n",
      "       [1.8000e+00, 1.0000e-01, 5.0856e+01, 2.0000e-02, 5.1493e+01,\n",
      "        2.0000e-02],\n",
      "       [1.8000e+00, 1.0000e-01, 5.3854e+01, 2.0000e-02, 5.4452e+01,\n",
      "        2.0000e-02],\n",
      "       [1.8000e+00, 1.0000e-01, 5.6381e+01, 2.0000e-02, 5.6946e+01,\n",
      "        2.0000e-02],\n",
      "       [1.8000e+00, 1.0000e-01, 5.8875e+01, 2.0000e-02, 5.9507e+01,\n",
      "        2.0000e-02],\n",
      "       [1.8000e+00, 1.0000e-01, 1.6010e+00, 2.0000e-02, 2.2330e+00,\n",
      "        2.0000e-02],\n",
      "       [1.8000e+00, 1.0000e-01, 4.8930e+00, 2.0000e-02, 5.4920e+00,\n",
      "        2.0000e-02],\n",
      "       [1.8000e+00, 1.0000e-01, 7.7530e+00, 2.0000e-02, 8.3850e+00,\n",
      "        2.0000e-02],\n",
      "       [1.8000e+00, 1.0000e-01, 1.0579e+01, 2.0000e-02, 1.1178e+01,\n",
      "        2.0000e-02],\n",
      "       [1.9000e+00, 1.0000e-01, 1.3472e+01, 2.0000e-02, 1.4071e+01,\n",
      "        2.0000e-02],\n",
      "       [1.9000e+00, 1.0000e-01, 1.6432e+01, 2.0000e-02, 1.7030e+01,\n",
      "        2.0000e-02],\n",
      "       [1.9000e+00, 1.0000e-01, 1.9192e+01, 2.0000e-02, 1.9823e+01,\n",
      "        2.0000e-02],\n",
      "       [1.9000e+00, 1.0000e-01, 2.2151e+01, 2.0000e-02, 2.2749e+01,\n",
      "        2.0000e-02],\n",
      "       [1.9000e+00, 1.0000e-01, 2.4778e+01, 2.0000e-02, 2.5410e+01,\n",
      "        2.0000e-02],\n",
      "       [1.9000e+00, 1.0000e-01, 2.7471e+01, 2.0000e-02, 2.8103e+01,\n",
      "        2.0000e-02],\n",
      "       [1.9000e+00, 1.0000e-01, 3.0331e+01, 2.0000e-02, 3.0963e+01,\n",
      "        2.0000e-02],\n",
      "       [1.9000e+00, 1.0000e-01, 3.3024e+01, 2.0000e-02, 3.3656e+01,\n",
      "        2.0000e-02],\n",
      "       [1.9000e+00, 1.0000e-01, 3.5784e+01, 2.0000e-02, 3.6416e+01,\n",
      "        2.0000e-02],\n",
      "       [1.9000e+00, 1.0000e-01, 3.8411e+01, 2.0000e-02, 3.9043e+01,\n",
      "        2.0000e-02],\n",
      "       [2.0000e+00, 1.0000e-01, 4.0917e+01, 2.0000e-02, 4.1603e+01,\n",
      "        2.0000e-02],\n",
      "       [2.0000e+00, 1.0000e-01, 4.3698e+01, 2.0000e-02, 4.4330e+01,\n",
      "        2.0000e-02],\n",
      "       [2.0000e+00, 1.0000e-01, 4.6525e+01, 2.0000e-02, 4.7156e+01,\n",
      "        2.0000e-02],\n",
      "       [2.0000e+00, 1.0000e-01, 4.9351e+01, 2.0000e-02, 5.0016e+01,\n",
      "        2.0000e-02],\n",
      "       [2.0000e+00, 1.0000e-01, 5.1945e+01, 2.0000e-02, 5.2576e+01,\n",
      "        2.0000e-02],\n",
      "       [2.0000e+00, 1.0000e-01, 5.4505e+01, 2.0000e-02, 5.5137e+01,\n",
      "        2.0000e-02],\n",
      "       [2.0000e+00, 1.0000e-01, 5.7098e+01, 2.0000e-02, 5.7763e+01,\n",
      "        2.0000e-02],\n",
      "       [2.0000e+00, 1.0000e-01, 5.9592e+01, 2.0000e-02, 6.0257e+01,\n",
      "        2.0000e-02],\n",
      "       [2.0000e+00, 1.0000e-01, 1.9860e+00, 2.0000e-02, 2.6520e+00,\n",
      "        2.0000e-02],\n",
      "       [2.0000e+00, 1.0000e-01, 4.8460e+00, 2.0000e-02, 5.4780e+00,\n",
      "        2.0000e-02]]))]\n"
     ]
    }
   ],
   "source": [
    "experiments = ((1,6),(2,3),(3,6))\n",
    "\n",
    "exp_number = 1\n",
    "hwm_experiments = experiments[exp_number-1][1]\n",
    "data = []\n",
    "for expId, expN in experiments:\n",
    "    data.append( (expN, np.loadtxt(f'./data/exp{expId}_freefall.csv', delimiter=',', skiprows=1)) )\n",
    "    \n",
    "\n",
    "print(data)"
   ]
  },
  {
   "cell_type": "code",
   "execution_count": 228,
   "metadata": {},
   "outputs": [],
   "source": [
    "def error_prop_addition(*args):\n",
    "    errors = np.array(args)\n",
    "    return np.sqrt(np.sum(errors**2, axis=0))\n",
    "\n",
    "def frac_error_prop_mult(*args):\n",
    "    if type(args[0]) != tuple:\n",
    "        raise NotImplementedError(\"Each parameter should be a tuple pair, \\\n",
    "                      where first element is A_err and second element is A\")\n",
    "    args_arr = np.array(args)\n",
    "    errors = args_arr[:,0]\n",
    "    abs_values = args_arr[:,1]\n",
    "    frac_errs = errors/abs_values\n",
    "    frac_err_propagation = np.sqrt(np.sum(frac_errs**2))\n",
    "    return frac_err_propagation\n",
    "\n",
    "def frac_errror_prop_power_single(A_err, A, power):\n",
    "    return power*A_err/A\n",
    "\n",
    "def frac_errror_prop_power(*args):\n",
    "    # @TODO: Figure out how to vectorize this, so that user can simply put in tuples of arrays\n",
    "    # of A_err, A, and pow, and get back err_propagation. Will leave for the future.\n",
    "    if type(args[0]) != tuple:\n",
    "        raise NotImplementedError(\"Each parameter should be a tuple triplet, \\\n",
    "                      where first element is A_i_err, second element is A_i, \\\n",
    "                      and third elements is n_i, and Z=multOrDiv(A^n)\")\n",
    "    print(*args)\n",
    "    args_arr = np.array(args)\n",
    "    print(args_arr)\n",
    "    errors = args_arr[:,0]\n",
    "    abs_values = args_arr[:,1]\n",
    "    exponents = args_arr[:,1]\n",
    "    frac_errs = errors/abs_values\n",
    "    \n",
    "    frac_err_propagation = np.sqrt(np.sum( (frac_errs*exponents)**2))\n",
    "    return frac_err_propagation\n",
    "    "
   ]
  },
  {
   "cell_type": "code",
   "execution_count": 229,
   "metadata": {},
   "outputs": [],
   "source": [
    "def calculate_lsq_g_err(x, y, gradient, model):\n",
    "    # From Hughes and Hase\n",
    "    # x should be a simple np array (vector) with N entries, where x_i is a float\n",
    "    # and it should be the independent variable (e.g. height)\n",
    "    # y should be a simple np array (vector) with N entries, where y_i is a float\n",
    "    # and it should be the dependent variable (e.g. time it took to fall, squared)\n",
    "    x = x.flatten() if (len(x.shape)>1) else x\n",
    "    y = y.flatten() if (len(y.shape)>1) else y\n",
    "    N = len(x)\n",
    "    \n",
    "    y_pred = model(x, gradient)\n",
    "    g = 2/gradient\n",
    "    \n",
    "    common_uncertainty = np.sqrt((1/(N-2)) * np.sum((y - y_pred)**2)) # magnitude of uncertainty in y-measurements\n",
    "    Delta = N*np.sum(x**2) - np.sum(x)**2\n",
    "    gradient_err = common_uncertainty* np.sqrt(N/Delta)\n",
    "    # since g=2*gradient**(-1), then g_err/g = err_grad/grad\n",
    "    g_err_frac = gradient_err/gradient\n",
    "    return g_err_frac\n",
    "\n",
    "def calculate_lsq_g_err_lookup(m,var_m):\n",
    "    return 2*(m**(-2)*np.sqrt(var_m)) # not fractional!\n",
    "\n",
    "def calculate_lsq_g_err_var2er(m, var_m):\n",
    "    # the standard error of an estimate may be defined as the\n",
    "    # square root of the estimated error variance of the quantity\n",
    "    # [Kenney and Keeping 1951, p. 187; Zwillinger 1995, p. 626]\n",
    "    # https://mathworld.wolfram.com/StandardError.html\n",
    "    std_err_m = np.sqrt(var_m)\n",
    "    g_err_frac = std_err_m/m\n",
    "    return g_err_frac\n",
    "\n",
    "def least_squares_fitting_predict_g(X,Y,Y_err,model=None):\n",
    "    fitting_line = lambda x,m: m*x\n",
    "    model = model if (model is not None) else fitting_line\n",
    "    params, params_covariance = curve_fit(model, X, Y, sigma=Y_err)\n",
    "    ## We only have 1 variables in the model, the gradient, so covariance matrix is 1x1\n",
    "    m = params[0]\n",
    "    m_var = params_covariance[0][0]\n",
    "    \n",
    "    g = 2/m\n",
    "    #g_err = g*calculate_lsq_g_err(X,Y,m,model)\n",
    "    #g_err = calculate_lsq_g_err_lookup(m,m_var)\n",
    "    g_err = g*calculate_lsq_g_err_var2er(m,m_var)\n",
    "    \n",
    "    return ((g, g_err), (params, params_covariance), model)"
   ]
  },
  {
   "cell_type": "code",
   "execution_count": 232,
   "metadata": {},
   "outputs": [
    {
     "name": "stdout",
     "output_type": "stream",
     "text": [
      "The least squares fitting method for exp 1 predicted g = 9.703 ± 0.043 ms^-2.\n",
      "The least squares fitting method for exp 2 predicted g = 10.283 ± 0.102 ms^-2.\n",
      "The least squares fitting method for exp 3 predicted g = 9.784 ± 0.086 ms^-2.\n"
     ]
    },
    {
     "data": {
      "image/png": "[encoded data removed]",
      "text/plain": [
       "<Figure size 432x288 with 1 Axes>"
      ]
     },
     "metadata": {
      "needs_background": "light"
     },
     "output_type": "display_data"
    },
    {
     "data": {
      "image/png": "[encoded data removed]",
      "text/plain": [
       "<Figure size 432x288 with 1 Axes>"
      ]
     },
     "metadata": {
      "needs_background": "light"
     },
     "output_type": "display_data"
    },
    {
     "data": {
      "image/png": "[encoded data removed]",
      "text/plain": [
       "<Figure size 432x288 with 1 Axes>"
      ]
     },
     "metadata": {
      "needs_background": "light"
     },
     "output_type": "display_data"
    }
   ],
   "source": [
    "heights_per_exp_all = []\n",
    "tf_sq_per_exp_all = []\n",
    "\n",
    "tf_sq_all_exp = []\n",
    "heights_all_exp = []\n",
    "\n",
    "theoretical_model_individuals = []\n",
    "\n",
    "for exp_number, experiment in enumerate(data):\n",
    "    hwm_experiments = experiment[0]\n",
    "    experiment_data = experiment[1]\n",
    "    # Arrays containing t^2 and h for this experiment (combined heights)\n",
    "    tf = experiment_data[:,4]-experiment_data[:,2]\n",
    "    tf_err = error_prop_addition(experiment_data[:,5],experiment_data[:,3])\n",
    "    tf_sq = tf**2\n",
    "    #tf_sq_err = tf_sq*frac_errror_prop_power( (tf_err,tf,2) )\n",
    "    tf_sq_err = frac_errror_prop_power_single(tf_err, tf, 2)\n",
    "    heights = experiment_data[:,0]\n",
    "    heights_err= experiment_data[:,1]\n",
    "    \n",
    "    tf_sq_all_exp.append(np.stack((tf_sq, tf_sq_err)))\n",
    "    heights_all_exp.append(np.stack((heights, heights_err)))\n",
    "    \n",
    "    gs, params_and_cov, model = least_squares_fitting_predict_g(heights, tf_sq, tf_sq_err)\n",
    "    theoretical_model_individuals.append( (gs, params_and_cov, model) )\n",
    "    print(f\"The least squares fitting method for exp {exp_number+1} predicted g = {gs[0]:.3f} ± {gs[1]:.3f} ms^-2.\")\n",
    "    \n",
    "    # Arrays containing t^2 and h for this experiment (segregated by heights)\n",
    "    heights_per_exp = np.array(np.split(heights,hwm_experiments))\n",
    "    heights_err_per_exp = np.array(np.split(heights_err, hwm_experiments))\n",
    "    tf_sq_per_exp = np.array(np.split(tf_sq,hwm_experiments))\n",
    "    tf_sq_err_per_exp = np.array(np.split(tf_sq_err,hwm_experiments))\n",
    "\n",
    "    heights_avg_per_exp = np.average(heights_per_exp, axis=1)\n",
    "    heights_std_err_per_exp = 1/np.sqrt(np.sum((1/heights_err_per_exp)**2, axis=1))## Hughes and Hase,\n",
    "    tf_sq_avg_per_exp = np.average(tf_sq_per_exp, axis=1)\n",
    "    #tf_sq_std_err_per_exp = np.sqrt(np.sum(tf_sq_err_per_exp**2, axis=1))\n",
    "    tf_sq_std_err_per_exp = 1/np.sqrt(np.sum((1/tf_sq_err_per_exp)**2, axis=1)) ## Hughes and Hase,\n",
    "    \n",
    "    tf_sq_per_exp_all.append(np.stack((tf_sq_avg_per_exp, tf_sq_std_err_per_exp)))\n",
    "    heights_per_exp_all.append(np.stack((heights_avg_per_exp, heights_std_err_per_exp)))\n",
    "    \n",
    "experiments_compendium = zip(heights_per_exp_all, tf_sq_per_exp_all, \\\n",
    "                             tf_sq_all_exp, heights_all_exp, theoretical_model_individuals)\n",
    "exp_n = 1\n",
    "for hpexp, tfsqpex, tfsqAll, hsAll, th in experiments_compendium:\n",
    "    heights = hsAll[0]\n",
    "    heights_errs = hsAll[1]\n",
    "    tf_sq = tfsqAll[0]\n",
    "    tf_sq_errs = tfsqAll[1]\n",
    "    \n",
    "    heights_avg = hpexp[0]\n",
    "    heights_std_err = hpexp[1]\n",
    "    tf_sq_avg = tfsqpex[0]\n",
    "    tf_sq_std_err = tfsqpex[1]\n",
    "    \n",
    "    gs= th[0]\n",
    "    params_and_cov = th[1]\n",
    "    model = th[2]\n",
    "    \n",
    "    theoretical_prediction = model(heights, params_and_cov[0][0])\n",
    "\n",
    "    plt.figure()\n",
    "    plt.plot([],[], ' ', label=f\"g = {gs[0]:.4f} ± {gs[1]:.4f} ms^-2\")\n",
    "    plt.scatter(heights, tf_sq, color='r', label='Measurements')\n",
    "    plt.plot(heights, theoretical_prediction, color='b',label='Model')\n",
    "\n",
    "    plt.xlabel(\"Heights (m)\")\n",
    "    plt.ylabel(\"Time to reach ground, squared (s^2)\")\n",
    "    plt.title(\"Theoretical model of predicted g using least squares method\")\n",
    "    plt.legend()\n",
    "    plt.errorbar(heights_avg, tf_sq_avg, tf_sq_std_err, heights_std_err , fmt='.')\n",
    "    plt.savefig(f'./plots/model_exp{exp_n}.png',dpi=(125))\n",
    "    plt.show()\n",
    "    exp_n= exp_n+1\n",
    "    \n",
    "\n"
   ]
  },
  {
   "cell_type": "code",
   "execution_count": 234,
   "metadata": {},
   "outputs": [
    {
     "name": "stdout",
     "output_type": "stream",
     "text": [
      "[[0.0972735  0.1445002  0.1823125  0.2256535  0.2685558  0.3099823\n",
      "  0.290535   0.3300108  0.1967324  0.2903773  0.3048577  0.3468019\n",
      "  0.3714877  0.3868714  0.4235421 ]\n",
      " [0.01825052 0.01497402 0.01184982 0.01198261 0.00976344 0.00908765\n",
      "  0.02305284 0.02163015 0.02801468 0.0331966  0.03239861 0.03037626\n",
      "  0.02934964 0.02876019 0.02748696]]\n"
     ]
    },
    {
     "data": {
      "image/png": "[encoded data removed]",
      "text/plain": [
       "<Figure size 432x288 with 1 Axes>"
      ]
     },
     "metadata": {
      "needs_background": "light"
     },
     "output_type": "display_data"
    }
   ],
   "source": [
    "tf_sq_all_combined_exps = np.concatenate(tf_sq_all_exp, axis=1)\n",
    "heights_all_combined_exps = np.concatenate(heights_all_exp, axis=1)\n",
    "\n",
    "tf_sq_all_combined_exps_per_height = np.concatenate(tf_sq_per_exp_all, axis=1)\n",
    "heights_all_combined_exps_per_height = np.concatenate(heights_per_exp_all, axis=1)\n",
    "\n",
    "print(tf_sq_all_combined_exps_per_height)\n",
    "\n",
    "all_heights_combined = heights_all_combined_exps[0]\n",
    "all_tf_sq_combined = tf_sq_all_combined_exps[0]\n",
    "\n",
    "all_heights_combined_per_hegight_avg = heights_all_combined_exps_per_height[0]\n",
    "all_heights_combined_per_hegight_std = heights_all_combined_exps_per_height[1]\n",
    "all_tf_sq_combined_per_hegight_avg = tf_sq_all_combined_exps_per_height[0]\n",
    "all_tf_sq_combined_per_hegight_std = tf_sq_all_combined_exps_per_height[1]\n",
    "\n",
    "theoretical_prediction_general = model(all_heights_combined, params_and_cov[0][0])\n",
    "\n",
    "plt.figure()\n",
    "plt.plot([],[], ' ', label=f\"g = {gs[0]:.3f} ± {gs[1]:.3f} ms^-2\")\n",
    "plt.scatter(all_heights_combined, all_tf_sq_combined, color='r', label='Measurements')\n",
    "plt.plot(all_heights_combined, theoretical_prediction_general, color='b',label='Model')\n",
    "\n",
    "plt.xlabel(\"Heights (m)\")\n",
    "plt.ylabel(\"Time to reach ground, squared (s^2)\")\n",
    "plt.title(\"Theoretical model of predicted g using least squares method\")\n",
    "plt.legend()\n",
    "plt.errorbar(all_heights_combined_per_hegight_avg, all_tf_sq_combined_per_hegight_avg, \\\n",
    "             all_tf_sq_combined_per_hegight_std, all_heights_combined_per_hegight_std , fmt='.')\n",
    "plt.savefig(f'./plots/model_exp_general.png',dpi=(125))\n",
    "plt.show()"
   ]
  },
  {
   "cell_type": "code",
   "execution_count": null,
   "metadata": {},
   "outputs": [],
   "source": []
  },
  {
   "cell_type": "code",
   "execution_count": 175,
   "metadata": {},
   "outputs": [
    {
     "data": {
      "text/plain": [
       "0.04315990806622393"
      ]
     },
     "execution_count": 175,
     "metadata": {},
     "output_type": "execute_result"
    }
   ],
   "source": [
    "N = heights.shape[0]\n",
    "m = params_and_cov[0][0]\n",
    "var_m = params_and_cov[1][0,0]\n",
    "# g = 2/m ==> dg/g = dm/m\n",
    "std_err_m = np.sqrt(var_m)\n",
    "g_err_frac = std_err_m/m\n",
    "g_err = gs[0]*g_err_frac\n",
    "g_err\n",
    "\n",
    "2*(m**(-2)*std_err_m)"
   ]
  },
  {
   "cell_type": "code",
   "execution_count": null,
   "metadata": {},
   "outputs": [],
   "source": []
  },
  {
   "cell_type": "code",
   "execution_count": 143,
   "metadata": {},
   "outputs": [
    {
     "data": {
      "text/plain": [
       "0.004448020475095137"
      ]
     },
     "execution_count": 143,
     "metadata": {},
     "output_type": "execute_result"
    }
   ],
   "source": [
    "std_err_m/m"
   ]
  },
  {
   "cell_type": "code",
   "execution_count": 144,
   "metadata": {},
   "outputs": [
    {
     "data": {
      "text/plain": [
       "9.703172075731239"
      ]
     },
     "execution_count": 144,
     "metadata": {},
     "output_type": "execute_result"
    }
   ],
   "source": [
    "2/m"
   ]
  },
  {
   "cell_type": "code",
   "execution_count": 145,
   "metadata": {},
   "outputs": [
    {
     "data": {
      "text/plain": [
       "0.04315990806622393"
      ]
     },
     "execution_count": 145,
     "metadata": {},
     "output_type": "execute_result"
    }
   ],
   "source": [
    "g_err"
   ]
  },
  {
   "cell_type": "code",
   "execution_count": 186,
   "metadata": {},
   "outputs": [
    {
     "data": {
      "text/plain": [
       "(60, 6)"
      ]
     },
     "execution_count": 186,
     "metadata": {},
     "output_type": "execute_result"
    }
   ],
   "source": [
    "data[0][1].shape"
   ]
  },
  {
   "cell_type": "code",
   "execution_count": 188,
   "metadata": {},
   "outputs": [
    {
     "data": {
      "text/plain": [
       "array([0.])"
      ]
     },
     "execution_count": 188,
     "metadata": {},
     "output_type": "execute_result"
    }
   ],
   "source": [
    "np.zeros((1))"
   ]
  },
  {
   "cell_type": "code",
   "execution_count": 200,
   "metadata": {},
   "outputs": [],
   "source": [
    "tf_sq_all_exp = np.concatenate(tf_sq_all_exp, axis=1)\n",
    "heights_all_exp = np.concatenate(heights_all_exp, axis=1)"
   ]
  },
  {
   "cell_type": "code",
   "execution_count": 204,
   "metadata": {},
   "outputs": [],
   "source": [
    "gs, params_and_cov, model = least_squares_fitting_predict_g(heights_all_exp[0], tf_sq_all_exp[0], tf_sq_all_exp[1])\n"
   ]
  },
  {
   "cell_type": "code",
   "execution_count": 219,
   "metadata": {},
   "outputs": [
    {
     "name": "stdout",
     "output_type": "stream",
     "text": [
      "[0.5 0.5 0.5 0.5 0.5 0.5 0.5 0.5 0.5 0.5 0.7 0.7 0.7 0.7 0.7 0.7 0.7 0.7\n",
      " 0.7 0.7 0.9 0.9 0.9 0.9 0.9 0.9 0.9 0.9 0.9 0.9 1.1 1.1 1.1 1.1 1.1 1.1\n",
      " 1.1 1.1 1.1 1.1 1.3 1.3 1.3 1.3 1.3 1.3 1.3 1.3 1.3 1.3 1.5 1.5 1.5 1.5\n",
      " 1.5 1.5 1.5 1.5 1.5 1.5]\n",
      "[0.5 0.7 0.9 1.1 1.3 1.5]\n",
      "[0.00015811 0.00015811 0.00015811 0.00015811 0.00015811 0.00015811]\n",
      "\n",
      "[0.099856 0.099856 0.111556 0.09     0.09     0.100489 0.100489 0.09\n",
      " 0.09     0.100489 0.146689 0.134689 0.16     0.133956 0.134689 0.146689\n",
      " 0.146689 0.147456 0.147456 0.146689 0.188356 0.173889 0.188356 0.173889\n",
      " 0.173889 0.187489 0.188356 0.187489 0.173056 0.188356 0.233289 0.233289\n",
      " 0.218089 0.218089 0.233289 0.25     0.218089 0.217156 0.218089 0.217156\n",
      " 0.267289 0.266256 0.266256 0.267289 0.284089 0.267289 0.267289 0.266256\n",
      " 0.266256 0.267289 0.3025   0.320356 0.321489 0.3025   0.321489 0.3025\n",
      " 0.3025   0.321489 0.3025   0.3025  ]\n",
      "[0.0972735 0.1445002 0.1823125 0.2256535 0.2685558 0.3099823]\n",
      "[0.01825052 0.01497402 0.01184982 0.01198261 0.00976344 0.00908765]\n",
      "\n",
      "(9.703172075731239, 0.04315990806622393)\n",
      "(array([0.20611816]), array([[8.40554893e-07]]))\n",
      "BYE\n",
      "[1.5 1.5 1.5 1.5 1.5 1.7 1.7 1.7 1.7 1.7 1.  1.  1.  1.  1. ]\n",
      "[1.5 1.7 1. ]\n",
      "[0.00894427 0.00894427 0.00894427]\n",
      "\n",
      "[0.295936 0.284089 0.288369 0.292681 0.2916   0.334084 0.338724 0.326041\n",
      " 0.338724 0.312481 0.191844 0.227529 0.191844 0.181476 0.190969]\n",
      "[0.290535  0.3300108 0.1967324]\n",
      "[0.02305284 0.02163015 0.02801468]\n",
      "\n",
      "(10.28292367638998, 0.1017399505418517)\n",
      "(array([0.19449721]), array([[3.70319504e-06]]))\n",
      "BYE\n",
      "[1.5 1.5 1.5 1.5 1.5 1.5 1.5 1.5 1.5 1.5 1.6 1.6 1.6 1.6 1.6 1.6 1.6 1.6\n",
      " 1.6 1.6 1.7 1.7 1.7 1.7 1.7 1.7 1.7 1.7 1.7 1.7 1.8 1.8 1.8 1.8 1.8 1.8\n",
      " 1.8 1.8 1.8 1.8 1.9 1.9 1.9 1.9 1.9 1.9 1.9 1.9 1.9 1.9 2.  2.  2.  2.\n",
      " 2.  2.  2.  2.  2.  2. ]\n",
      "[1.5 1.6 1.7 1.8 1.9 2. ]\n",
      "[0.03162278 0.03162278 0.03162278 0.03162278 0.03162278 0.03162278]\n",
      "\n",
      "[0.283024 0.283024 0.283024 0.283024 0.283024 0.283024 0.319225 0.283024\n",
      " 0.283024 0.320356 0.283024 0.319225 0.283024 0.319225 0.283024 0.283024\n",
      " 0.320356 0.319225 0.319225 0.319225 0.319225 0.357604 0.319225 0.357604\n",
      " 0.358801 0.320356 0.358801 0.358801 0.358801 0.358801 0.358801 0.357604\n",
      " 0.405769 0.357604 0.319225 0.399424 0.399424 0.358801 0.399424 0.358801\n",
      " 0.358801 0.357604 0.398161 0.357604 0.399424 0.399424 0.399424 0.399424\n",
      " 0.399424 0.399424 0.470596 0.399424 0.398161 0.442225 0.398161 0.399424\n",
      " 0.442225 0.442225 0.443556 0.399424]\n",
      "[0.2903773 0.3048577 0.3468019 0.3714877 0.3868714 0.4235421]\n",
      "[0.0331966  0.03239861 0.03037626 0.02934964 0.02876019 0.02748696]\n",
      "\n",
      "(9.783560843051236, 0.08575423259647827)\n",
      "(array([0.20442455]), array([[3.2105787e-06]]))\n",
      "BYE\n"
     ]
    }
   ],
   "source": [
    "\n",
    "experiments_compendium = zip(heights_per_exp_all, tf_sq_per_exp_all, \\\n",
    "                             tf_sq_all_exp, heights_all_exp, theoretical_model_individuals)\n",
    "for hpexp, tfsqpex, tfsqAll, hsAll, th in experiments_compendium:\n",
    "    heights = hsAll[0]\n",
    "    heights_errs = hsAll[1]\n",
    "    tf_sq = tfsqAll[0]\n",
    "    tf_sq_errs = tfsqAll[1]\n",
    "    \n",
    "    heights_avg = hpexp[0]\n",
    "    heights_std_err = hpexp[1]\n",
    "    tf_sq_avg = tfsqpex[0]\n",
    "    tf_sq_std_err = tfsqpex[1]\n",
    "    \n",
    "    gs= th[0]\n",
    "    params_and_cov = th[1]\n",
    "    model = th[2]\n",
    "    \n",
    "    print(heights)\n",
    "    print(heights_avg)\n",
    "    print(heights_std_err)\n",
    "    print()\n",
    "    print(tf_sq)\n",
    "    print(tf_sq_avg)\n",
    "    print(tf_sq_std_err)\n",
    "    print()\n",
    "    print(gs)\n",
    "    print(params_and_cov)\n",
    "    print(\"BYE\")\n",
    "    \n",
    "    "
   ]
  },
  {
   "cell_type": "code",
   "execution_count": null,
   "metadata": {},
   "outputs": [],
   "source": []
  }
 ],
 "metadata": {
  "kernelspec": {
   "display_name": "Python 3",
   "language": "python",
   "name": "python3"
  },
  "language_info": {
   "codemirror_mode": {
    "name": "ipython",
    "version": 3
   },
   "file_extension": ".py",
   "mimetype": "text/x-python",
   "name": "python",
   "nbconvert_exporter": "python",
   "pygments_lexer": "ipython3",
   "version": "3.9.0"
  }
 },
 "nbformat": 4,
 "nbformat_minor": 4
}
